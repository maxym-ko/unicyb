{
 "cells": [
  {
   "cell_type": "markdown",
   "metadata": {
    "id": "rPZRK1JvrBl6"
   },
   "source": [
    "## Import required packages"
   ]
  },
  {
   "cell_type": "code",
   "execution_count": 1,
   "metadata": {
    "colab": {
     "base_uri": "https://localhost:8080/"
    },
    "id": "YVhiXuSB-1fZ",
    "outputId": "a311e866-d543-4b4e-fa05-92ec444e86cf",
    "scrolled": true
   },
   "outputs": [],
   "source": [
    "import openai\n",
    "import requests\n",
    "from bs4 import BeautifulSoup\n",
    "from langchain.chat_models import ChatOpenAI\n",
    "from langchain.embeddings.openai import OpenAIEmbeddings\n",
    "from langchain.schema import (\n",
    "    SystemMessage,\n",
    "    HumanMessage,\n",
    "    AIMessage\n",
    ")\n",
    "from pymilvus import MilvusClient, DataType\n",
    "from tqdm import tqdm"
   ]
  },
  {
   "cell_type": "markdown",
   "metadata": {},
   "source": [
    "## Set up vector DB (`Milvus`)"
   ]
  },
  {
   "cell_type": "markdown",
   "metadata": {},
   "source": [
    "### Start `Milvus` service"
   ]
  },
  {
   "cell_type": "markdown",
   "metadata": {},
   "source": [
    "In order to start `Milvus` service run the following commands:\n",
    "\n",
    "```\n",
    "mkdir milvus && cd milvus\n",
    "curl -sfL https://raw.githubusercontent.com/milvus-io/milvus/master/scripts/standalone_embed.sh -o standalone_embed.sh\n",
    "bash standalone_embed.sh start\n",
    "```"
   ]
  },
  {
   "cell_type": "markdown",
   "metadata": {},
   "source": [
    "### Connect to the `Milvus`"
   ]
  },
  {
   "cell_type": "code",
   "execution_count": 2,
   "metadata": {},
   "outputs": [],
   "source": [
    "client = MilvusClient(\n",
    "    uri='http://127.0.0.1:19530',\n",
    "    token='root:Milvus'\n",
    ")"
   ]
  },
  {
   "cell_type": "markdown",
   "metadata": {},
   "source": [
    "### Init a shema for images storage"
   ]
  },
  {
   "cell_type": "code",
   "execution_count": 3,
   "metadata": {},
   "outputs": [],
   "source": [
    "ARTICLE_TEXT_MAX_LENGTH = 1500"
   ]
  },
  {
   "cell_type": "code",
   "execution_count": 4,
   "metadata": {},
   "outputs": [
    {
     "data": {
      "text/plain": [
       "{'auto_id': False, 'description': '', 'fields': [{'name': 'id', 'description': '', 'type': <DataType.INT64: 5>, 'is_primary': True, 'auto_id': True}, {'name': 'vector', 'description': '', 'type': <DataType.FLOAT_VECTOR: 101>, 'params': {'dim': 1536}}, {'name': 'article_text', 'description': '', 'type': <DataType.VARCHAR: 21>, 'params': {'max_length': 3000}}, {'name': 'article_url', 'description': '', 'type': <DataType.VARCHAR: 21>, 'params': {'max_length': 200}}], 'enable_dynamic_field': False}"
      ]
     },
     "execution_count": 4,
     "metadata": {},
     "output_type": "execute_result"
    }
   ],
   "source": [
    "article_schema = MilvusClient.create_schema()\n",
    "\n",
    "article_schema.add_field(field_name='id', datatype=DataType.INT64, is_primary=True, auto_id=True)\n",
    "article_schema.add_field(field_name='vector', datatype=DataType.FLOAT_VECTOR, dim=1536)\n",
    "article_schema.add_field(field_name='article_text', datatype=DataType.VARCHAR, max_length=ARTICLE_TEXT_MAX_LENGTH*2)\n",
    "article_schema.add_field(field_name='article_url', datatype=DataType.VARCHAR, max_length=200)"
   ]
  },
  {
   "cell_type": "markdown",
   "metadata": {},
   "source": [
    "### Enable indexing on `id` and `vector` fields "
   ]
  },
  {
   "cell_type": "code",
   "execution_count": 5,
   "metadata": {},
   "outputs": [],
   "source": [
    "index_params = client.prepare_index_params()\n",
    "\n",
    "index_params.add_index(\n",
    "    field_name='vector',\n",
    "    index_type='FLAT',\n",
    "    metric_type='COSINE'\n",
    ")"
   ]
  },
  {
   "cell_type": "markdown",
   "metadata": {},
   "source": [
    "### Create collection (if not created yet)"
   ]
  },
  {
   "cell_type": "code",
   "execution_count": 6,
   "metadata": {},
   "outputs": [],
   "source": [
    "COLLECTION_NAME = 'articles_bihus'"
   ]
  },
  {
   "cell_type": "code",
   "execution_count": 7,
   "metadata": {},
   "outputs": [],
   "source": [
    "client.drop_collection(\n",
    "    collection_name=COLLECTION_NAME,\n",
    ")"
   ]
  },
  {
   "cell_type": "code",
   "execution_count": 8,
   "metadata": {
    "scrolled": true
   },
   "outputs": [],
   "source": [
    "if not client.has_collection(collection_name=COLLECTION_NAME):\n",
    "    client.create_collection(\n",
    "        collection_name=COLLECTION_NAME,\n",
    "        schema=article_schema,\n",
    "        index_params=index_params\n",
    "    )"
   ]
  },
  {
   "cell_type": "markdown",
   "metadata": {
    "scrolled": true
   },
   "source": [
    "### Verify that the collection is ready"
   ]
  },
  {
   "cell_type": "code",
   "execution_count": 9,
   "metadata": {},
   "outputs": [
    {
     "data": {
      "text/plain": [
       "{'state': <LoadState: Loaded>}"
      ]
     },
     "execution_count": 9,
     "metadata": {},
     "output_type": "execute_result"
    }
   ],
   "source": [
    "client.get_load_state(\n",
    "    collection_name=COLLECTION_NAME\n",
    ")"
   ]
  },
  {
   "cell_type": "markdown",
   "metadata": {
    "id": "04eh1g4xntbD"
   },
   "source": [
    "## Set up text embedding extraction model and LLM agent\n",
    "\n",
    "We will use `OpenAI` API for both text embedding extraction (`text-embedding-3-small`) and LLM (`gpt-4o-mini`)"
   ]
  },
  {
   "cell_type": "code",
   "execution_count": 10,
   "metadata": {
    "id": "XRbrfjO5nwXq",
    "scrolled": true
   },
   "outputs": [],
   "source": [
    "OPENAI_API_KEY = '<OPENAI_API_KEY>'"
   ]
  },
  {
   "cell_type": "markdown",
   "metadata": {},
   "source": [
    "### LLM agent (i.e. Chatbot)"
   ]
  },
  {
   "cell_type": "code",
   "execution_count": 11,
   "metadata": {
    "id": "K9r8-jKmYH1u"
   },
   "outputs": [
    {
     "name": "stderr",
     "output_type": "stream",
     "text": [
      "/tmp/ipykernel_4128805/4116842513.py:1: LangChainDeprecationWarning: The class `ChatOpenAI` was deprecated in LangChain 0.0.10 and will be removed in 1.0. An updated version of the class exists in the :class:`~langchain-openai package and should be used instead. To use it run `pip install -U :class:`~langchain-openai` and import as `from :class:`~langchain_openai import ChatOpenAI``.\n",
      "  chat = ChatOpenAI(\n"
     ]
    }
   ],
   "source": [
    "chat = ChatOpenAI(\n",
    "    openai_api_key = OPENAI_API_KEY,\n",
    "    model = 'gpt-4o-mini'\n",
    ")"
   ]
  },
  {
   "cell_type": "markdown",
   "metadata": {},
   "source": [
    "#### Testing"
   ]
  },
  {
   "cell_type": "code",
   "execution_count": 12,
   "metadata": {
    "id": "G18JklUdZWRu"
   },
   "outputs": [],
   "source": [
    "messages = [\n",
    "    SystemMessage(content = 'You are a helpful assistant.'),\n",
    "    HumanMessage(content = 'Hi AI, how are you?'),\n",
    "    AIMessage(content = 'I am great thank you. How can I help you?'),\n",
    "    \n",
    "    HumanMessage(content = 'I would like to understand the structure of Ukrainian government')\n",
    "]"
   ]
  },
  {
   "cell_type": "code",
   "execution_count": 13,
   "metadata": {
    "colab": {
     "base_uri": "https://localhost:8080/"
    },
    "id": "hYWBZ65UZ1BZ",
    "outputId": "b41b0f49-daa3-4160-d3c6-b10a6bb87ae8",
    "scrolled": true
   },
   "outputs": [
    {
     "name": "stderr",
     "output_type": "stream",
     "text": [
      "/tmp/ipykernel_4128805/1253727881.py:1: LangChainDeprecationWarning: The method `BaseChatModel.__call__` was deprecated in langchain-core 0.1.7 and will be removed in 1.0. Use :meth:`~invoke` instead.\n",
      "  agent_answer = chat(messages)\n"
     ]
    },
    {
     "name": "stdout",
     "output_type": "stream",
     "text": [
      "The structure of the Ukrainian government is defined by its Constitution, which was adopted in 1996. Ukraine is a unitary parliamentary republic, which means that it has a system of government in which the executive branch derives its democratic legitimacy from the legislature (Verkhovna Rada) and is held accountable to it.\n",
      "\n",
      "Here’s an overview of the key components of the Ukrainian government structure:\n",
      "\n",
      "### 1. **Executive Branch**\n",
      "- **President**: The President of Ukraine is the head of state and is elected by popular vote for a five-year term (with the possibility of re-election). The President has significant powers, including the ability to appoint the Prime Minister (with the approval of the Verkhovna Rada), oversee foreign policy, and serve as the commander-in-chief of the armed forces.\n",
      "  \n",
      "- **Cabinet of Ministers**: The Cabinet, headed by the Prime Minister, is responsible for the day-to-day administration of the government. The Prime Minister is appointed by the President with the consent of the Verkhovna Rada. The Cabinet includes ministers who oversee various government departments.\n",
      "\n",
      "### 2. **Legislative Branch**\n",
      "- **Verkhovna Rada**: The Verkhovna Rada is the unicameral parliament of Ukraine, consisting of 450 members who are elected for a five-year term. The Rada is responsible for enacting laws, approving the budget, ratifying international treaties, and overseeing the executive branch. Members of the Rada are elected through a mixed electoral system, combining proportional representation and majority voting.\n",
      "\n",
      "### 3. **Judicial Branch**\n",
      "- **Supreme Court**: The judiciary is independent and includes the Supreme Court, which is the highest court in the country. Other courts include appellate courts and specialized courts (e.g., administrative courts). Judges are appointed by the President based on recommendations from the High Council of Justice.\n",
      "\n",
      "### 4. **Local Government**\n",
      "- Ukraine is divided into regions, known as oblasts, as well as the autonomous republic of Crimea and cities of special significance (Kyiv and Sevastopol). Local governments have their own elected councils and mayors, and they have some degree of autonomy to manage local affairs.\n",
      "\n",
      "### 5. **Political Parties**\n",
      "- Ukraine has a multi-party system, and various political parties participate in elections to the Verkhovna Rada and local councils. Political dynamics can shift significantly, often influenced by issues such as regional identity, language, and economic concerns.\n",
      "\n",
      "### 6. **Constitutional Court**\n",
      "- The Constitutional Court of Ukraine is responsible for interpreting the Constitution and ensuring that laws and other legal acts comply with it. The court can review legislation and has the authority to annul laws that are found unconstitutional.\n",
      "\n",
      "### Summary\n",
      "In summary, Ukraine's government structure consists of a President and a Cabinet that form the executive branch, a unicameral parliament (Verkhovna Rada) as the legislative branch, and an independent judiciary. Local governments play an important role in administering regional affairs. The system is characterized by a separation of powers and checks and balances among the branches of government.\n"
     ]
    }
   ],
   "source": [
    "agent_answer = chat(messages)\n",
    "\n",
    "print(agent_answer.content)"
   ]
  },
  {
   "cell_type": "markdown",
   "metadata": {},
   "source": [
    "### Text embedding extraction model"
   ]
  },
  {
   "cell_type": "code",
   "execution_count": 14,
   "metadata": {},
   "outputs": [
    {
     "name": "stderr",
     "output_type": "stream",
     "text": [
      "/tmp/ipykernel_4128805/3757787941.py:1: LangChainDeprecationWarning: The class `OpenAIEmbeddings` was deprecated in LangChain 0.0.9 and will be removed in 1.0. An updated version of the class exists in the :class:`~langchain-openai package and should be used instead. To use it run `pip install -U :class:`~langchain-openai` and import as `from :class:`~langchain_openai import OpenAIEmbeddings``.\n",
      "  embed_model = OpenAIEmbeddings(\n"
     ]
    }
   ],
   "source": [
    "embed_model = OpenAIEmbeddings(\n",
    "    model='text-embedding-3-small',\n",
    "    openai_api_key=OPENAI_API_KEY\n",
    ")"
   ]
  },
  {
   "cell_type": "markdown",
   "metadata": {},
   "source": [
    "#### Testing"
   ]
  },
  {
   "cell_type": "code",
   "execution_count": 15,
   "metadata": {},
   "outputs": [
    {
     "data": {
      "text/plain": [
       "(3, 1536)"
      ]
     },
     "execution_count": 15,
     "metadata": {},
     "output_type": "execute_result"
    }
   ],
   "source": [
    "test_texts = [\n",
    "    'Lorem ipsum dolor sit amet, consectetur adipiscing elit.',\n",
    "    'Vestibulum vulputate ullamcorper tortor, sit amet vehicula velit dignissim ut.',\n",
    "    'Suspendisse potenti.'\n",
    "]\n",
    "\n",
    "test_embedings = embed_model.embed_documents(test_texts)\n",
    "\n",
    "len(test_embedings), len(test_embedings[0])"
   ]
  },
  {
   "cell_type": "markdown",
   "metadata": {
    "id": "awheu251a-x3"
   },
   "source": [
    "## Parse \"Bihus.Info\" articles"
   ]
  },
  {
   "cell_type": "code",
   "execution_count": 16,
   "metadata": {},
   "outputs": [],
   "source": [
    "BIHUS_URL = 'https://bihus.info/news/'\n",
    "HTTP_HEADERS = {'User-Agent': 'Mozilla/5.0 (Macintosh; Intel Mac OS X 10_11_5) AppleWebKit/537.36 (KHTML, like Gecko) Chrome/50.0.2661.102 Safari/537.36'}"
   ]
  },
  {
   "cell_type": "code",
   "execution_count": 17,
   "metadata": {},
   "outputs": [],
   "source": [
    "def get_articles_urls():\n",
    "    page = requests.get(BIHUS_URL, headers=HTTP_HEADERS)\n",
    "    \n",
    "    soup = BeautifulSoup(page.content, 'html.parser')\n",
    "    a_tags = soup.find_all('a', class_='bi-latest-post__link')\n",
    "    \n",
    "    return {a['href'] for a in a_tags}"
   ]
  },
  {
   "cell_type": "code",
   "execution_count": 18,
   "metadata": {},
   "outputs": [],
   "source": [
    "def get_article_text(article_url: str):\n",
    "    page = requests.get(article_url, headers=HTTP_HEADERS)\n",
    "    soup = BeautifulSoup(page.content, 'html.parser')\n",
    "    article_paragraphs = soup.find(class_='bi-single-content').find_all('p')\n",
    "    \n",
    "    paragraphs = [paragraph.text for paragraph in article_paragraphs]\n",
    "\n",
    "    return '\\n'.join(paragraphs)"
   ]
  },
  {
   "cell_type": "code",
   "execution_count": 19,
   "metadata": {
    "scrolled": true
   },
   "outputs": [
    {
     "data": {
      "text/plain": [
       "(26,\n",
       " ['https://bihus.info/rozsliduvannya-bihus-info-pro-stezhennya-z-boku-sbu-vyznaly-krashhym-na-naczionalnomu-konkursi-zhurnalistskyh-rozsliduvan/',\n",
       "  'https://bihus.info/genprokuror-zareyestruvav-dva-kryminalnyh-provadzhennya-shhodo-narodnogo-deputata-romana-ivanisova-pislya-syuzhetu-bihus-info/',\n",
       "  'https://bihus.info/pislya-syuzhetu-bihus-info-u-minoborony-povidomyly-pro-zvilnennya-lyudyny-nardepa-isayenka/',\n",
       "  'https://bihus.info/pidnyattya-podatkiv-zamist-borotby-z-tinnyu-yak-za-roky-getmanczeva-u-radi-najsirishi-zony-ekonomiky-shhe-bilshe-potemnily/',\n",
       "  'https://bihus.info/bihus-info-pokazalo-provalnu-robotu-i-nezadeklarovani-statky-spivrobitnykiv-servisnogo-czentru-mvs/'])"
      ]
     },
     "execution_count": 19,
     "metadata": {},
     "output_type": "execute_result"
    }
   ],
   "source": [
    "articles_urls = get_articles_urls()\n",
    "\n",
    "len(articles_urls), list(articles_urls)[:5]"
   ]
  },
  {
   "cell_type": "code",
   "execution_count": 20,
   "metadata": {},
   "outputs": [
    {
     "name": "stderr",
     "output_type": "stream",
     "text": [
      "100%|█████████████████████████████████████████████████████████████████████████████████████████████████████████████████████████████████████████████████████████████████| 26/26 [00:03<00:00,  8.23it/s]\n"
     ]
    },
    {
     "data": {
      "text/plain": [
       "(26, 53790)"
      ]
     },
     "execution_count": 20,
     "metadata": {},
     "output_type": "execute_result"
    }
   ],
   "source": [
    "article_text_dict = {\n",
    "    get_article_text(articles_url): articles_url\n",
    "    for articles_url in tqdm(articles_urls)\n",
    "}\n",
    "\n",
    "len(article_text_dict), sum([len(text) for text in article_text_dict.keys()])"
   ]
  },
  {
   "cell_type": "markdown",
   "metadata": {},
   "source": [
    "## Vectorize articles"
   ]
  },
  {
   "cell_type": "markdown",
   "metadata": {},
   "source": [
    "### Split articles into chunks"
   ]
  },
  {
   "cell_type": "code",
   "execution_count": 21,
   "metadata": {},
   "outputs": [],
   "source": [
    "def split_string(text: str, max_size: int) -> list[str]:\n",
    "    parts = []\n",
    "\n",
    "    sentence_temp = ''\n",
    "    for sentence in text.split('.'):\n",
    "        if len(sentence_temp) + len(sentence) > max_size:\n",
    "            parts.append(sentence_temp.strip())\n",
    "            sentence_temp = sentence\n",
    "        else:\n",
    "            sentence_temp = f'{sentence_temp} {sentence}'\n",
    "    \n",
    "    if sentence_temp:\n",
    "        parts.append(sentence_temp.strip())\n",
    "    \n",
    "    return parts"
   ]
  },
  {
   "cell_type": "code",
   "execution_count": 22,
   "metadata": {},
   "outputs": [
    {
     "data": {
      "text/plain": [
       "(49, 53363)"
      ]
     },
     "execution_count": 22,
     "metadata": {},
     "output_type": "execute_result"
    }
   ],
   "source": [
    "article_chunks_dict = {}\n",
    "\n",
    "for article_text, article_url in article_text_dict.items():\n",
    "    article_chunks = split_string(article_text, ARTICLE_TEXT_MAX_LENGTH)\n",
    "    for article_chunk in article_chunks:\n",
    "        article_chunks_dict[article_chunk] = article_url\n",
    "\n",
    "len(article_chunks_dict), sum(len(chunk) for chunk in article_chunks_dict.keys())"
   ]
  },
  {
   "cell_type": "markdown",
   "metadata": {},
   "source": [
    "### Extract embeddings from text"
   ]
  },
  {
   "cell_type": "code",
   "execution_count": 23,
   "metadata": {},
   "outputs": [
    {
     "data": {
      "text/plain": [
       "(49, 1536)"
      ]
     },
     "execution_count": 23,
     "metadata": {},
     "output_type": "execute_result"
    }
   ],
   "source": [
    "text_embeddings = embed_model.embed_documents(article_chunks_dict.keys())\n",
    "\n",
    "len(text_embeddings), len(text_embeddings[0])"
   ]
  },
  {
   "cell_type": "markdown",
   "metadata": {},
   "source": [
    "### Load data into `Milvus`"
   ]
  },
  {
   "cell_type": "code",
   "execution_count": 24,
   "metadata": {
    "scrolled": true
   },
   "outputs": [
    {
     "data": {
      "text/plain": [
       "49"
      ]
     },
     "execution_count": 24,
     "metadata": {},
     "output_type": "execute_result"
    }
   ],
   "source": [
    "data = []\n",
    "\n",
    "for paragraph_embedding, (article_chunk, article_url) in zip(text_embeddings, article_chunks_dict.items()):\n",
    "    data += [{\n",
    "        'vector': paragraph_embedding,\n",
    "        'article_text': article_chunk,\n",
    "        'article_url': article_url\n",
    "    }]\n",
    "\n",
    "len(data)"
   ]
  },
  {
   "cell_type": "code",
   "execution_count": 25,
   "metadata": {
    "scrolled": true
   },
   "outputs": [],
   "source": [
    "_ = client.insert(collection_name=COLLECTION_NAME, data=data)"
   ]
  },
  {
   "cell_type": "markdown",
   "metadata": {
    "id": "3sJjHUSzsu18"
   },
   "source": [
    "### Demonstration of the similiarity search"
   ]
  },
  {
   "cell_type": "code",
   "execution_count": 26,
   "metadata": {},
   "outputs": [],
   "source": [
    "def get_similiar(query: str, k: int = 3) -> list[tuple[int, int, float]]:\n",
    "    query_vector = embed_model.embed_documents([query])[0]\n",
    "\n",
    "    candidates = client.search(\n",
    "        collection_name=COLLECTION_NAME,\n",
    "        data=[query_vector],\n",
    "        limit=k,\n",
    "        output_fields=['article_text', 'article_url']\n",
    "    )[0]\n",
    "\n",
    "    return [(candidate['entity']['article_text'], candidate['entity']['article_url']) \n",
    "        for candidate in candidates\n",
    "    ]"
   ]
  },
  {
   "cell_type": "code",
   "execution_count": 27,
   "metadata": {
    "colab": {
     "base_uri": "https://localhost:8080/"
    },
    "id": "aPRPqHhODSfu",
    "outputId": "21e85418-e0d7-4b70-832b-2cb642a519f1"
   },
   "outputs": [
    {
     "data": {
      "text/plain": [
       "[('Нагадаємо, минулого компанія ТОВ “КБ “Теплоенергоавтоматика” – потрапила у скандал через підряди від КП «Київський метрополітен», зокрема через засекречений контракт на 1,5 млрд грн на ремонт «червоної гілки» метро  Журналістам Bihus Info вдалося з’ясувати не тільки багатомільйонні завищення цін на кабельну продукцію, але й зв’язок фірми безпосередньо із керівником Метрополітену Віктором Брагінським  Виявилося, що компанія оформлена на Тетяну Белецьку, балерину й педагога Національної опери, а за сумісництвом – тещу давнього бізнес-партнера Брагінського, Кирила Кривця \\nЦікава в рамках уже нового “газового” контракту деталь: до того, як очолити Метрополітен, Брагінський працював у структурах НАК “Нафтогаз”, там же у той період працював і Кривець  Оператор ГТС, від якого ТОВ “КБ “ТЕА” має отримати 1,6 мільярда – створений із філії “Укртрансгазу”, тобто історично також належить до структури групи “Нафтогазу” \\nПісля оприлюднення журналістського розслідування – кримінальні провадження почали розслідувати НАБУ і Нацпол  Антикорбюро розслідує незаконне збагачення, а також привласнення і розтрату шляхом зловживання службовим становищем, при чому вже й по інших контрактах Метрополітену \\nПаралельно Нацпол оголосив Брагінського в розшук з підозрою в службовій недбалості – це стосується колапсу «синьої гілки» метро в грудні 2023 року',\n",
       "  'https://bihus.info/gazovyky-vidpysaly-15-milyarda-baleryni-iz-istoriyi-pro-deryban-v-kyyivskomu-metro/'),\n",
       " ('Нагадаємо, у грудні Bihus Info розповіли про найбільший в Україні сервісний центр МВС у Києві  А саме про схеми з талонами на практичний іспит з водіння  Поки кияни ночують під сервісним центром у спробах взяти талон, самі працівники катаються на люксових авто  Частини з них немає у декларації',\n",
       "  'https://bihus.info/nazk-pochalo-perevirku-sposobu-zhyttya-kilkoh-posadovcziv-scz-pislya-rozsliduvannya-pro-shemy-z-talonamy/'),\n",
       " ('Упродовж багатьох років він нібито купує автівки за явно заниженими щодо ринкової вартості цінами  Найцікавіше – LEXUS IS 200T, задекларований по ціні 30 тис ГРИВЕНЬ  Інколи, у випадку другого за рік продажу, коли треба платити податки – по заниженій також і продає  Так,\\xa0 наприклад, продавши\\xa0 BMW 428I – Кухельний задекларував дохід всього лише в 10 тис  Наразі Кухельний їздить на TESLA MODEL 3, про придбання котрої досі не подав декларації  Це може свідчити, що автівку знову оформили за заниженою ціною \\n\\n\\n\\nВ коментарі Bihus Info Олександр Бойко заявив, що керівництво і адміністратори СЦ не причетні ні до дефіциту талонів, ні до проблем з роботою системи електронної черги, через які людям доводиться “полювати” на талони цілодобово й подекуди місяцями  Мовляв, талон важко взяти тільки тому, що у Києві дуже багато охочих складати іспит, а інспекторів мало і нових СЦ ніяк не можуть знайти  Разом з тим, Бойко не зміг чітко пояснити, як і чому талони перетасовуються в системі вночі, коли вона нібито не повинна працювати в принципі  Водночас Бойко визнав, що така робота системи не є ефективною',\n",
       "  'https://bihus.info/bihus-info-pokazalo-provalnu-robotu-i-nezadeklarovani-statky-spivrobitnykiv-servisnogo-czentru-mvs/')]"
      ]
     },
     "execution_count": 27,
     "metadata": {},
     "output_type": "execute_result"
    }
   ],
   "source": [
    "query = 'З якими проблемами стикався Київський метрополітен?'\n",
    "\n",
    "get_similiar(query, k=3)"
   ]
  },
  {
   "cell_type": "markdown",
   "metadata": {
    "id": "-n6QANvKElnQ"
   },
   "source": [
    "# RAG!!!"
   ]
  },
  {
   "cell_type": "code",
   "execution_count": 28,
   "metadata": {
    "id": "uhn9PVKDEpJ7"
   },
   "outputs": [],
   "source": [
    "def get_answer(query: str, k: int = 3):\n",
    "    results = get_similiar(query, k=k)\n",
    "\n",
    "    article_texts = [article_text for article_text, _ in results]\n",
    "    sources = {article_url for _, article_url in results}\n",
    "    \n",
    "    messages = [\n",
    "        SystemMessage(content = 'Ти журналіст-розслідувач, який дає відповіді на запитання щодо різних розслідувань'),\n",
    "        HumanMessage(content = 'Привіт, друже. Як справи?'),\n",
    "        AIMessage(content = 'Чудово, готовий до нових питань. Що саме тебе цікавить?'),\n",
    "        # prompt\n",
    "        HumanMessage(content=augment_prompt(article_texts))\n",
    "    ]\n",
    "    \n",
    "    agent_answer = chat(messages)\n",
    "    \n",
    "    return {\n",
    "        'question': query,\n",
    "        'answer': agent_answer.content, \n",
    "        'source': sources\n",
    "    }\n",
    "    \n",
    "    \n",
    "def augment_prompt(text: str):\n",
    "    source_knowledge = '\\n'.join(text)\n",
    "    \n",
    "    return f'''\n",
    "        <system_prompt>Використовуючи наданий контекст, дай відповідь на поставлене питання<system_prompt>\n",
    "        \n",
    "        <context>{source_knowledge}<context>\n",
    "        \n",
    "        <question>{query}<question>\n",
    "    '''"
   ]
  },
  {
   "cell_type": "code",
   "execution_count": 29,
   "metadata": {},
   "outputs": [
    {
     "data": {
      "text/plain": [
       "{'question': 'Чому затримали Новохацького?',\n",
       " 'answer': 'Новохацького затримали через його роль посередника у передачі відкату за виконання робіт, фінансованих з бюджету Херсона. Він запропонував директору однієї з місцевих компаній \"допомогти\" отримати підряд від КП \"Херсонтеплоенерго\" в обмін на 22,5% від суми договору. Згідно з інформацією, він також погрожував, що підприємець не зможе безперешкодно вести бізнес в Херсоні та області у разі відмови. Затримання відбулося під час передачі відкату, що стало підставою для дій Служби безпеки України.',\n",
       " 'source': {'https://bihus.info/nabu-i-sap-rozsliduyut-jmovirne-nezakonne-zbagachennya-prokurora-guczulyaka/',\n",
       "  'https://bihus.info/rozsliduvannya-bihus-info-pro-stezhennya-z-boku-sbu-vyznaly-krashhym-na-naczionalnomu-konkursi-zhurnalistskyh-rozsliduvan/',\n",
       "  'https://bihus.info/sbu-zatrymala-figuranta-syuzhetu-bihus-info-pro-rozpyly-na-budivnycztvi-shkil-hersonshhyny-za-zbir-vidkativ/'}}"
      ]
     },
     "execution_count": 29,
     "metadata": {},
     "output_type": "execute_result"
    }
   ],
   "source": [
    "# query = 'Хто купував нерухомість в ЖК \"Комфорт Таун\"?'\n",
    "query = 'Чому затримали Новохацького?'\n",
    "\n",
    "get_answer(query)"
   ]
  },
  {
   "cell_type": "code",
   "execution_count": null,
   "metadata": {},
   "outputs": [],
   "source": []
  }
 ],
 "metadata": {
  "colab": {
   "authorship_tag": "ABX9TyOUWbVgP9imhgbMLeuRXOsx",
   "include_colab_link": true,
   "provenance": []
  },
  "kernelspec": {
   "display_name": "test",
   "language": "python",
   "name": "test"
  },
  "language_info": {
   "codemirror_mode": {
    "name": "ipython",
    "version": 3
   },
   "file_extension": ".py",
   "mimetype": "text/x-python",
   "name": "python",
   "nbconvert_exporter": "python",
   "pygments_lexer": "ipython3",
   "version": "3.12.2"
  }
 },
 "nbformat": 4,
 "nbformat_minor": 4
}
